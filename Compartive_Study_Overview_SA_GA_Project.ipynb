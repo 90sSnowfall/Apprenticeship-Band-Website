{
  "nbformat": 4,
  "nbformat_minor": 0,
  "metadata": {
    "colab": {
      "provenance": [],
      "toc_visible": true,
      "authorship_tag": "ABX9TyN/HG/h3ukl1Z950UstTUyY",
      "include_colab_link": true
    },
    "kernelspec": {
      "name": "python3",
      "display_name": "Python 3"
    },
    "language_info": {
      "name": "python"
    }
  },
  "cells": [
    {
      "cell_type": "markdown",
      "metadata": {
        "id": "view-in-github",
        "colab_type": "text"
      },
      "source": [
        "<a href=\"https://colab.research.google.com/github/90sSnowfall/Apprenticeship-Band-Website/blob/main/Compartive_Study_Overview_SA_GA_Project.ipynb\" target=\"_parent\"><img src=\"https://colab.research.google.com/assets/colab-badge.svg\" alt=\"Open In Colab\"/></a>"
      ]
    },
    {
      "cell_type": "markdown",
      "source": [],
      "metadata": {
        "id": "2LNAW6WmIEhQ"
      }
    },
    {
      "cell_type": "markdown",
      "source": [
        "# An Overview Report of Course Scheduling Optimization Problem and the Comparison of using Simulated Annealing and Genetic Algorithms\n",
        "\n",
        "###Dragan Nicolae-Ciprian\n",
        "\n",
        "###George Emil Palade University of Medicine, Pharmacy, Science and Technology of Targu-Mures\n",
        "\n",
        "### Foreword:\n",
        "We tried to integrate the research report with the eventual experiment within a python jupyter notebook. This was interesting to try.\n",
        "\n",
        "### Keywords:\n",
        "Timetabling problem, Simulated Annealing, Genetic Algorithm, Comparison"
      ],
      "metadata": {
        "id": "q4te4ANGLySY"
      }
    },
    {
      "cell_type": "markdown",
      "source": [
        "## Abstract:\n",
        "\n",
        "// wip"
      ],
      "metadata": {
        "id": "YsTLusJqMA1u"
      }
    },
    {
      "cell_type": "markdown",
      "source": [
        "## Introduction:\n",
        "\n",
        "Most of us have been students at schools, lyceeums or universities and may have had our fair share of vendettas with the time schedule for classes that some might overlay with other activities. From the classic \"Friday afternoon shall be free\" to \"This class overlaps with another specialization\" complaint, and thus from simple concerns such as those here roots the University Course Timetabling Problem (UCTP) [1]. UCTP is a task of assigning events of an university based on resource allocation: time slots, places(e.g. a classroom, laboratory, etc.) and the lectures themselves, while using other constranints. In the Master’s thesis', from Mälardalen University, report paper [1] it is stated that the constraints can be devided in two groups: soft and hard constraints, where hard are not to be violated, but strictly respected for a solution to be considered viable, where soft are extras that can improve the solution, more than welcome to do so, but there are no strict obligations towards soft constraints.\n",
        "\n",
        "UCTP is considered to be a NP-hard combinatorial problem [1], meaning that there is certain solution that can solve the problem optimally in polynomial time. Researchers have came with different proposals in solving them, though most of them are meta-heuristic algorithms such as: evolutionary algorithms and local search algorithms. Another factor that makes this problem hard to solve is that each university has their own requirements, making it an unique set of constraints for each university out there. Other methods include Ant Colony Algorithms, Hill Climbing, Quantum Genetic Evolutionary Algorithm, Adapted Flower Pollination Algorithm, to name a few out of the many [2].\n",
        "\n",
        "In this overview report, we aim to understand the UCTP problem and several of the named we dive into different methods used to solve the UCTP problem, that being the Literature Review section of this paper. This section will be the most consistent in size compared to the rest of this document. In addition, it will help us understand how the problem is formulated, how data is collected and applied to these algorithms.\n",
        "\n",
        "Methodology will include the theoretical comparative analysis of the two algorithms: Simulated Annealing and Genetic Algorithm providing usecases, strong and low points of each.\n",
        "\n"
      ],
      "metadata": {
        "id": "av6_UD9iMrwi"
      }
    },
    {
      "cell_type": "markdown",
      "source": [
        "## Literature Review:\n",
        "\n",
        "Here lies the second section of this overview report, where we provide a couple of the well-known methods used in"
      ],
      "metadata": {
        "id": "o311IrwrPTCZ"
      }
    },
    {
      "cell_type": "markdown",
      "source": [
        "## Methodology:"
      ],
      "metadata": {
        "id": "O8tbozGyPXpi"
      }
    },
    {
      "cell_type": "markdown",
      "source": [
        "## Results:"
      ],
      "metadata": {
        "id": "a7-bSWYcPa3a"
      }
    },
    {
      "cell_type": "markdown",
      "source": [
        "## Conclusions:\n"
      ],
      "metadata": {
        "id": "Rsp3YMAnPeO1"
      }
    },
    {
      "cell_type": "markdown",
      "source": [
        "## References:\n",
        "\n",
        "1. Sjöstedt, T. (2018). Solving university timetabling using a genetic algorithm. [Master’s thesis, Mälardalen University]. DiVA Portal. https://www.diva-portal.org/smash/get/diva2%3A1212779/FULLTEXT01.pdf\n",
        "\n",
        "2. Aki, O. (2020). University Course Timetabling Using Genetic Algorithms. ResearchGate. https://www.researchgate.net/publication/346969094_University_Course_Timetabling_Using_Genetic_Algorithms\n",
        "\n",
        "3. Fattahi, J., & Afshari, M. (2019). Application of Genetic Algorithm and Simulated Annealing Algorithm for Course Scheduling Problem. ResearchGate. https://www.researchgate.net/publication/334668490_Application_of_Genetic_Algorithm_and_Simulated_Annealing_Algorithm_for_Course_Scheduling_Problem\n",
        "\n",
        "4. Olaitan, M., Usman, I., & Oguntade, F. (2024). Solving University Course Timetabling Problem Using Metaheuristic Optimization Algorithms. Issues in Information Systems, 24(1), 392–408. https://iacis.org/iis/2024/4_iis_2024_392-408.pdf\n",
        "\n",
        "5. Ahmad, M. R., & Ahmed, W. (2024). University Course Scheduling Using Simulated Annealing. Scientific and Applied Research Journal, 74(12), 296–302. https://www.sarjournal.com/content/74/SARJournalDecember2024_296_302.pdf"
      ],
      "metadata": {
        "id": "2slJWuK8Pgng"
      }
    },
    {
      "cell_type": "markdown",
      "source": [
        "## Personal Contributions:\n",
        "\n",
        "For accomplishing this study:\n",
        "\n",
        "- We have collected a few documents from a couple of resources [e.g. ResearchGate, SAR Journal] focusing on *Course Timetable Scheduling Problem* and selected optimization algorithms [Simulated Annealing and Genetic Algorithm]\n",
        "\n",
        "- We have reinforced the idea that others have formulated before, but also providing a summary of the commonly used methods for sovling the UCTP problem\n",
        "\n"
      ],
      "metadata": {
        "id": "u1zSJKfu5VGE"
      }
    },
    {
      "cell_type": "code",
      "execution_count": null,
      "metadata": {
        "id": "hkdWaMdTE-Px"
      },
      "outputs": [],
      "source": []
    }
  ]
}