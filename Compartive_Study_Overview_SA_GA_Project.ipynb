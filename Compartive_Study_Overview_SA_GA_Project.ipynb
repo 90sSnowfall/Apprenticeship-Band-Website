{
  "nbformat": 4,
  "nbformat_minor": 0,
  "metadata": {
    "colab": {
      "provenance": [],
      "toc_visible": true,
      "authorship_tag": "ABX9TyNjASwBSvKrUa+Rzav6DzRc",
      "include_colab_link": true
    },
    "kernelspec": {
      "name": "python3",
      "display_name": "Python 3"
    },
    "language_info": {
      "name": "python"
    }
  },
  "cells": [
    {
      "cell_type": "markdown",
      "metadata": {
        "id": "view-in-github",
        "colab_type": "text"
      },
      "source": [
        "<a href=\"https://colab.research.google.com/github/90sSnowfall/Apprenticeship-Band-Website/blob/main/Compartive_Study_Overview_SA_GA_Project.ipynb\" target=\"_parent\"><img src=\"https://colab.research.google.com/assets/colab-badge.svg\" alt=\"Open In Colab\"/></a>"
      ]
    },
    {
      "cell_type": "markdown",
      "source": [],
      "metadata": {
        "id": "2LNAW6WmIEhQ"
      }
    },
    {
      "cell_type": "markdown",
      "source": [
        "# <b>An Overview Report of Course Scheduling Optimization Problem and the Comparison of using Simulated Annealing and Genetic Algorithms</b>\n",
        "\n",
        "###Dragan Nicolae-Ciprian\n",
        "\n",
        "###George Emil Palade University of Medicine, Pharmacy, Science and Technology of Targu-Mures\n",
        "\n",
        "### <b>Foreword:</b>\n",
        "We tried to integrate the research report with the eventual experiment within a python jupyter notebook. This was interesting to try. In addition, this document has been heavily inspired by the first reference.\n",
        "\n",
        "### <b>Keywords:</b>\n",
        "Timetabling problem, Simulated Annealing, Genetic Algorithm, Comparison"
      ],
      "metadata": {
        "id": "q4te4ANGLySY"
      }
    },
    {
      "cell_type": "markdown",
      "source": [
        "## <b>Abstract:</b>\n",
        "\n",
        "University Course Timetabling Problem (UCTP)[1] is a NP-hard combinatorial problem to allocate resources (e.g. time, classrooms, etc.) where the constraints vary based on each univerisities' various policies. There is no guarantee that the solution can be found in polynomial time. This paper explores different methods, with the primary focus being Simulated Annealing (SA) and Genetic Algorithm (GA)."
      ],
      "metadata": {
        "id": "YsTLusJqMA1u"
      }
    },
    {
      "cell_type": "markdown",
      "source": [
        "## <b>Introduction:</b>\n",
        "\n",
        "Most of us have been students at schools, lyceeums or universities and may have had our fair share of vendettas with the time schedule for classes that some might overlay with other activities. From the classic \"Friday afternoon shall be free\" to \"This class overlaps with another specialization\" complaint, and thus from simple concerns such as those here roots the University Course Timetabling Problem (UCTP) [1]. UCTP is a task of assigning events of an university based on resource allocation: time slots, places(e.g. a classroom, laboratory, etc.) and the lectures themselves, while using other constranints. In the Master’s thesis', from Mälardalen University, report paper [1] it is stated that the constraints can be devided in two groups: soft and hard constraints, where hard are not to be violated, but strictly respected for a solution to be considered viable, where soft are extras that can improve the solution, more than welcome to do so, but there are no strict obligations towards soft constraints.\n",
        "\n",
        "UCTP is considered to be a NP-hard combinatorial problem [1], meaning that there is no certitude that the solution can be found in polynomial time. Researchers have came with different proposals in solving them, though most of them are meta-heuristic algorithms such as: evolutionary algorithms and local search algorithms. Another factor that makes this problem hard to solve is that each university has their own requirements, making it an unique set of constraints for each university out there. Other methods include Ant Colony Algorithms, Hill Climbing, Quantum Genetic Evolutionary Algorithm, Adapted Flower Pollination Algorithm, to name a few out of the many [2].\n",
        "\n",
        "In this overview report, we aim to understand the UCTP problem and several of the named we dive into different methods used to solve the UCTP problem, that being the Literature Review section of this paper. This section will be the most consistent in size compared to the rest of this document. In addition, it will help us understand how the problem is formulated, how data is collected and applied to these algorithms.\n",
        "\n",
        "Methodology will include the theoretical comparative analysis of the two algorithms: Simulated Annealing and Genetic Algorithm providing usecases, strong and low points of each.\n",
        "\n"
      ],
      "metadata": {
        "id": "av6_UD9iMrwi"
      }
    },
    {
      "cell_type": "markdown",
      "source": [
        "## <b>Literature Review:</b>\n",
        "\n",
        "Here lies the second section of this overview report, where we provide a couple of the well-known methods used in UCTP and formulating the UCTP in detail. The main outline for this review will be the master's report[1], given to it's well structured documentation and interesting to read.\n",
        "\n"
      ],
      "metadata": {
        "id": "o311IrwrPTCZ"
      }
    },
    {
      "cell_type": "markdown",
      "source": [
        "\n",
        "### <b>University Course Timetabling Problem (UCTP):</b>\n",
        "\n",
        "This subsection is dedicated to understanding, formulating and how to apply the problem to algorithms before mentioned.\n",
        "\n",
        "UCTP is an NP-hard combinatorial optimization problem. Before computers being used for such task, this problem was solved by hand. And that took an uncanny amount of time, and lacking the guarantee that the obtained solution was the best one. The focus is to allocate resources (rooms, lecturers and student groups) while minimizing constraint violations, such as avoid overlapping events for students [1].\n",
        "\n",
        "Due to the complexity and constraint diversity of each institution, there is no general solution to satisfy them all. Therefore A. Scharef[1] formulates that UCTP can be devided in three main categories:\n",
        "\n",
        "  1. School Timetabling\n",
        "  2. Course Timetabling\n",
        "  3. Examination Timetabling\n",
        "\n",
        "Where, school timetabling focuses on weekly schedulying for all classes of an education institution, with the main constraint of avoiding a teacher being in two classes at the same time. Course timetabling is adressed for the students, organizing the lectures where main priority is to avoid overlaping two courses happening at once. Examination Timetabling is once-in-a-moon organizational chart for examinations for students and lecutrers alike, where the main constraints are to avoid having two or more exams at the same time, or for the lecturers to oversee a single examination at once [1].\n",
        "\n",
        "\n",
        "Regarding constraints, there are two categories: soft constraints and hard constraints. Hard constraints uphold the priority, their meet is mandatory to obtain the optima slution. In the master's report documentation[1], there are three examples of hard constraints:\n",
        "\n",
        "- A student group has **a single event** (i.e. a lecture) at a time\n",
        "- A lecturer attends **one lecture** at a time\n",
        "- A room has limited capacity, and it can not hold more students or instructors.\n",
        "\n",
        "Soft constraints are the ideals that could improve the quality of a solution schedule even merrier, but they are not mandatory to be added. All hard constraints must be met first before having a soft constraint accepted. If some soft constraints are met, then the solution quality improves, otherwise the result would be yet feasible. Here are some examples listed from the same reference:\n",
        "\n",
        "- The last slot of the day shall be clear for the student\n",
        "- The pause/free time between courses shall not be that long\n",
        "- A student should not have a day with a single class\n",
        "\n",
        "We can not talk about an universal pattern for formulating the input data for the algorithms because each algorithm has their own formulation. A few encoding methods for specific algorithms, with the main focus remaining on GA and SA, will be disscussed later in Related Work\n",
        "\n",
        "As we work with constraints and with the encoding at our hands, a fitness function is used to evaluate the quality and feasiablity of a solution, by comparing it with other solutions. There are penalties for each violated constraint, where each violation has a value. The goal of UCTP is minimization, meaning that the fitness function converges to zero."
      ],
      "metadata": {
        "id": "tiB_YmYItnxB"
      }
    },
    {
      "cell_type": "markdown",
      "source": [
        "### <b>Meta-heuristic Algorithms:</b>\n",
        "\n",
        "With the problem understood, now we have to figure out the encoding for the problem. Since there is no universal way to encode, this means that each algorithm has their own, we will explore a few of these encodings with the use of meta-heuristics.\n",
        "\n",
        "By definition, Meta-Heuristics [1, 4] are general-purpose optimization algorithms with some intelligence to solve complex optimization problems, such as NP-hard and combinatorial like our case. These methods can not name perfectly the global optimum always but tends to the said perfectionist approach. We have named a couple of examples above, but the main focus will be two meta-heuristic algorithms: Simulated Annealing and Genetic Algorithms, which they will be mentioned briefly several times in the next section, and detailed in Methodology section.\n",
        "\n",
        "\n"
      ],
      "metadata": {
        "id": "PNMRR8lotuLq"
      }
    },
    {
      "cell_type": "markdown",
      "source": [
        "### <b>Related Work:</b>\n",
        "\n",
        "This subsection contains a summary of the selected references, on how they approached the solving of UCTP.\n",
        "\n",
        "The first reference [1] is the main outline for this overview report, due to it's interesting structure. A Master's degree disertation report that has a contribution of making a hybrid algorithm between Genetic Algoritm and Simulated Annealing. Their <i>GA-SA Algorithm's</i> pseudocode[1] .\n",
        "\n",
        "```\n",
        "_______________________________________\n",
        "Algorithm 3 GA-SA Hybrid Implementation\n",
        "_______________________________________\n",
        "1: function Hybrid\n",
        "2:    uncomplete_timetable ← GA()     |> Using stopping condition\n",
        "3:    final_timetable ← SA(uncomplete_timetable, 80, 0.7, 0.9998)\n",
        "4: return final_timetable\n",
        "5: end function\n",
        "```\n",
        "\n",
        "Starting with the dataset, they have run on five different datasets. Their dataset entry format has been inspired by the Royal Institute of Technology, their data format is as follows:\n",
        "\n",
        "```\n",
        "# ROOMS\n",
        "RoomName RoomCapacity RoomType\n",
        "# COURSES\n",
        "CourseName NumOfLectures NumOfLessons NumOfLabs\n",
        "# LECTURERS\n",
        "LecturerName CourseA CourseB...\n",
        "# STUDENT GROUPS\n",
        "Student GroupName NumOfStudents CourseA CourseB\n",
        "```\n",
        "\n",
        "Where \"#\" is the beginning of a section followed by a name, and each section has a varied number of properties. A table (Table 3.1) that displays the 5 different dataset with the number of attributes for each dataset, is listed below:\n",
        "\n",
        "```\n",
        "Input Data File   S     M     L     XL    XXL\n",
        "_____________________________________________\n",
        "Lecture Rooms     2     2     3     6     7\n",
        "Lesson Rooms      3     5     6     10    15\n",
        "Lab Rooms         3     5     7     11    15\n",
        "Courses           12    15    21    29    39\n",
        "Lecturers         9     12    15    21    28\n",
        "Student Groups    6     8     12    21    30\n",
        "Total Events      70    115   159   293   431\n",
        "Total Time Slots  160   240   320   540   740\n",
        "Event Density     0.44  0.48  0.50  0.54  0.58\n",
        "```\n"
      ],
      "metadata": {
        "id": "NVwcM1wscxq3"
      }
    },
    {
      "cell_type": "markdown",
      "source": [
        "## Methodology - A comparative study:\n",
        "\n",
        "This section is the extension of Literature review, where the focus shifts on the two meta-heuristic algorithms: Simulated Anealing and Genetic Algorithm.\n",
        "\n",
        "### Simulated Annealing:\n",
        "\n",
        "According to the Salman and Hanna[1], Simulated Annealing is a local search algorithm that can accept solutions that are worse during the search of the global optima for the sake of expanding exploration of the search space. It takes inspiration from the physical process of annealing in metallurgy - where a matrial is heated and then slowly cooled to remove imperfections and reach for a stable structure.\n",
        "\n",
        "In the first reference [1], there is an interesting analogy that explains this in simple words: the heated metal is the solution and a temperature variable is used to simulate the heating process. In the initial phase, the temperature is set at a high value to allow the algorithm to accept worse solutions (the impurities in the metal), that avoids being blocked in local optima. The metal then is cooled down slowly, and the temperature value drops. From here the impurities are thrown out (the worse solutions accepted until the heating process has ended). This narrows down the search space and hopefully will reach the global optima (the metal with least impurity and a stable structure).\n",
        "\n",
        "Below, we have listed their second algorithm pseudocode [1], this one is for Simulated Annealing:\n",
        "```\n",
        "______________________________________________\n",
        "Algorithm 2 Simulated Annealing Implementation\n",
        "______________________________________________\n",
        "  1: function SA(solbad, T_start, T_final, k):\n",
        "  2:    solcurrent ← solbad\n",
        "  3:    solbest ← solbad\n",
        "  4:    T ← T_start\n",
        "  5:    while T > T_final do\n",
        "  6:       solnew ← MODIFY (solcurrent)\n",
        "  7:       if accept(fitness(solcurrent),\n",
        "           fitness(solnew), T )) > rand(0, 1)  then:\n",
        "  8:           solcurrent ← solnew\n",
        "  9:       end if\n",
        "  10:      if fitness(solnew) > fitness(solbest) then:\n",
        "  11:        solbest ← solnew\n",
        "  12:      end if\n",
        "  13:    T ← T ∗ k\n",
        "  14:    end while\n",
        "  15:    return solbest\n",
        "  16: end function\n",
        "```\n",
        "Below we have listed a legend for each variable and method listed:\n",
        "\n",
        "```\n",
        "1. solcurrent, solbest, solbad:\n",
        "# They are solutions. Current are generated during the heating process, and originally initiated with a random solution (solbad).\n",
        "\n",
        "2. T, T_start, T_final:\n",
        "# The temperatures. T is the heating process temperature that is initialized with a starting point (T_final), where T_final is a very high temperature. T_final is a precautionary stop temperature in case if the cooling process takes too long. And it usually does.\n",
        "\n",
        "3. k:\n",
        "# The cooling rate: the single usage it has it's on line 13, that being the Geometric Cooling, where 0 < k < 1, typically k being closer to 1.\n",
        "\n",
        "4. MODIFY():\n",
        "# mutation function that alters the current solution\n",
        "\n",
        "5. accept():\n",
        "# A Comparison function that compares the results of the fitness value between the current solution, the new solution with the current temperature T\n",
        "\n",
        "6. fitness():\n",
        "\n"
      ],
      "metadata": {
        "id": "O8tbozGyPXpi"
      }
    },
    {
      "cell_type": "markdown",
      "source": [
        "## Discussion:"
      ],
      "metadata": {
        "id": "a7-bSWYcPa3a"
      }
    },
    {
      "cell_type": "markdown",
      "source": [
        "## Conclusions:\n"
      ],
      "metadata": {
        "id": "Rsp3YMAnPeO1"
      }
    },
    {
      "cell_type": "markdown",
      "source": [
        "## References:\n",
        "\n",
        "1. Alzahraa Salman, Rouwayd Hanna (2018). <i>A Comparative Study between\n",
        "GeneticAlgorithm, Simulated\n",
        "Annealing and a Hybrid Algorithm\n",
        "for solving a University Course\n",
        "Timetabling Problem</i>. [Master’s thesis, Mälardalen University]. DiVA Portal. https://www.diva-portal.org/smash/get/diva2%3A1212779/FULLTEXT01.pdf\n",
        "\n",
        "2. Aki, O. (2020). <i>University Course Timetabling Using Genetic Algorithms</i>. International Scientific Conference UNITECH'2020At: Gabrovo / Bulgaria. ResearchGate. https://www.researchgate.net/publication/346969094_University_Course_Timetabling_Using_Genetic_Algorithms\n",
        "\n",
        "3. Deng-yu-hui Li, Jia-ji Shen, et. al. (2019). <i>Application of Genetic Algorithm and Simulated Annealing Algorithm for Course Scheduling Problem</i>. ResearchGate. Proceedings of the 2019 International Conference on Modeling, Analysis, Simulation Technologies and Applications (MASTA 2019) https://www.researchgate.net/publication/334668490_Application_of_Genetic_Algorithm_and_Simulated_Annealing_Algorithm_for_Course_Scheduling_Problem\n",
        "\n",
        "4. Achini Herath, Dawn Wilkins (2024). <i>A comparative study on solving university timetabling problems with emphasis on Genetic Algorithms</i>. Issues in Information Systems Volume 25, Issue 4 pp. 392-408, 2024 https://iacis.org/iis/2024/4_iis_2024_392-408.pdf\n",
        "\n",
        "5. Kim N. Subang, Efren I. Balaba, Jose C. Agoylo Jr. (2024). <i>Optimizing Course Scheduling with Genetic\n",
        "Algorithms: A Dynamic Approach</i>. SAR Journal. Volume 7, Issue 4, Pages 296-302, ISSN 2619-9955, DOI: 10.18421/SAR74-02, December 2024. https://www.sarjournal.com/content/74/SARJournalDecember2024_296_302.pdf"
      ],
      "metadata": {
        "id": "2slJWuK8Pgng"
      }
    },
    {
      "cell_type": "markdown",
      "source": [
        "## Personal Contributions:\n",
        "\n",
        "For accomplishing this study:\n",
        "\n",
        "- We have collected a few documents from a couple of resources [e.g. ResearchGate, SAR Journal] focusing on *Course Timetable Scheduling Problem* and selected optimization algorithms [Simulated Annealing and Genetic Algorithm]\n",
        "\n",
        "- We have reinforced the idea that others have formulated before, but also providing a summary of the commonly used methods for sovling the UCTP problem\n",
        "\n",
        "- We provided a complied and simplified formulation of already existing papers to introduce the reader into the UCTP problem and few of its soloutions\n",
        "\n",
        "- Pinpointed differences between two chosen meta-heuristic algorithms\n",
        "\n",
        "- Elaborated the metalurgic annealing analogy for Simulated Annealing. In the original reference they have not went too in depth about it.\n",
        "\n",
        "- time and energy"
      ],
      "metadata": {
        "id": "u1zSJKfu5VGE"
      }
    },
    {
      "cell_type": "code",
      "execution_count": null,
      "metadata": {
        "id": "hkdWaMdTE-Px"
      },
      "outputs": [],
      "source": []
    }
  ]
}